{
 "cells": [
  {
   "cell_type": "code",
   "execution_count": 15,
   "metadata": {},
   "outputs": [
    {
     "name": "stdout",
     "output_type": "stream",
     "text": [
      "Collecting contentful\n",
      "  Downloading https://files.pythonhosted.org/packages/ba/f5/b5c601d3476f305636cf45d6b43b6d42acbbe181a5f7973787855f43d96d/contentful-1.12.3.tar.gz\n",
      "Requirement already satisfied: requests<3.0,>=2.20.0 in /Users/pchamania/anaconda3/lib/python3.7/site-packages (from contentful) (2.21.0)\n",
      "Requirement already satisfied: python-dateutil in /Users/pchamania/anaconda3/lib/python3.7/site-packages (from contentful) (2.8.0)\n",
      "Requirement already satisfied: chardet<3.1.0,>=3.0.2 in /Users/pchamania/anaconda3/lib/python3.7/site-packages (from requests<3.0,>=2.20.0->contentful) (3.0.4)\n",
      "Requirement already satisfied: urllib3<1.25,>=1.21.1 in /Users/pchamania/anaconda3/lib/python3.7/site-packages (from requests<3.0,>=2.20.0->contentful) (1.24.1)\n",
      "Requirement already satisfied: certifi>=2017.4.17 in /Users/pchamania/anaconda3/lib/python3.7/site-packages (from requests<3.0,>=2.20.0->contentful) (2019.3.9)\n",
      "Requirement already satisfied: idna<2.9,>=2.5 in /Users/pchamania/anaconda3/lib/python3.7/site-packages (from requests<3.0,>=2.20.0->contentful) (2.8)\n",
      "Requirement already satisfied: six>=1.5 in /Users/pchamania/anaconda3/lib/python3.7/site-packages (from python-dateutil->contentful) (1.12.0)\n",
      "Building wheels for collected packages: contentful\n",
      "  Building wheel for contentful (setup.py) ... \u001b[?25ldone\n",
      "\u001b[?25h  Stored in directory: /Users/pchamania/Library/Caches/pip/wheels/3f/73/fb/64cccd7262dfbcd4235c137c73064a80c9fe59f824ad384eaf\n",
      "Successfully built contentful\n",
      "Installing collected packages: contentful\n",
      "Successfully installed contentful-1.12.3\n"
     ]
    }
   ],
   "source": [
    "!pip install contentful\n"
   ]
  },
  {
   "cell_type": "code",
   "execution_count": 1,
   "metadata": {},
   "outputs": [],
   "source": [
    "import MyModel"
   ]
  },
  {
   "cell_type": "code",
   "execution_count": 18,
   "metadata": {},
   "outputs": [],
   "source": [
    "\n",
    "cfg = {\n",
    "    \"content\":{\n",
    "        'spaceID':'ar4rkgym12xb',\n",
    "        'accessToken':'blH8x9mkxpDFrncnwPOTbL1YrK0CeZkqRkyhExdfGaE',\n",
    "        'env':'segmentation'\n",
    "    }\n",
    "}"
   ]
  },
  {
   "cell_type": "code",
   "execution_count": 2,
   "metadata": {},
   "outputs": [
    {
     "name": "stdout",
     "output_type": "stream",
     "text": [
      "Initializing\n"
     ]
    }
   ],
   "source": [
    "test = MyModel.MyModel()"
   ]
  },
  {
   "cell_type": "code",
   "execution_count": 10,
   "metadata": {},
   "outputs": [
    {
     "ename": "SyntaxError",
     "evalue": "invalid syntax (<ipython-input-10-3577a5c1c644>, line 1)",
     "output_type": "error",
     "traceback": [
      "\u001b[0;36m  File \u001b[0;32m\"<ipython-input-10-3577a5c1c644>\"\u001b[0;36m, line \u001b[0;32m1\u001b[0m\n\u001b[0;31m    docker tag 0b1ced656d44 dockerdeloitte1990/dockertest:seldon3\u001b[0m\n\u001b[0m             ^\u001b[0m\n\u001b[0;31mSyntaxError\u001b[0m\u001b[0;31m:\u001b[0m invalid syntax\n"
     ]
    }
   ],
   "source": [
    "docker tag 0b1ced656d44 dockerdeloitte1990/dockertest:seldon3\n",
    "docker push dockerdeloitte1990/dockertest:seldon3\n",
    "docker run --name “seldon3” -d --rm -p 5000:5000 dockerdeloitte1990/dockertest:seldon3\n",
    "s2i build . seldonio/seldon-core-s2i-python3 seldon3"
   ]
  },
  {
   "cell_type": "code",
   "execution_count": 6,
   "metadata": {},
   "outputs": [
    {
     "name": "stdout",
     "output_type": "stream",
     "text": [
      "Predict called - will run idenity function\n"
     ]
    },
    {
     "data": {
      "text/plain": [
       "[[['7CiO9diBnzj5pTv28gcwtq',\n",
       "   'QvYCXJvwArd90tV6FpwlM',\n",
       "   '1Ztpu4cwEFMXDTM3z1XbL3']]]"
      ]
     },
     "execution_count": 6,
     "metadata": {},
     "output_type": "execute_result"
    }
   ],
   "source": [
    "test.predict([1,2],2)"
   ]
  },
  {
   "cell_type": "code",
   "execution_count": 9,
   "metadata": {},
   "outputs": [],
   "source": [
    "x = np.array([1, 2, 3], np.int32)\n"
   ]
  },
  {
   "cell_type": "code",
   "execution_count": 8,
   "metadata": {},
   "outputs": [],
   "source": [
    "import numpy as np\n"
   ]
  },
  {
   "cell_type": "code",
   "execution_count": 10,
   "metadata": {},
   "outputs": [
    {
     "data": {
      "text/plain": [
       "array([1, 2, 3], dtype=int32)"
      ]
     },
     "execution_count": 10,
     "metadata": {},
     "output_type": "execute_result"
    }
   ],
   "source": [
    "x\n"
   ]
  },
  {
   "cell_type": "code",
   "execution_count": 11,
   "metadata": {},
   "outputs": [
    {
     "data": {
      "text/plain": [
       "2"
      ]
     },
     "execution_count": 11,
     "metadata": {},
     "output_type": "execute_result"
    }
   ],
   "source": [
    "x[1]"
   ]
  },
  {
   "cell_type": "code",
   "execution_count": null,
   "metadata": {},
   "outputs": [],
   "source": [
    "x"
   ]
  }
 ],
 "metadata": {
  "kernelspec": {
   "display_name": "Python 3",
   "language": "python",
   "name": "python3"
  },
  "language_info": {
   "codemirror_mode": {
    "name": "ipython",
    "version": 3
   },
   "file_extension": ".py",
   "mimetype": "text/x-python",
   "name": "python",
   "nbconvert_exporter": "python",
   "pygments_lexer": "ipython3",
   "version": "3.7.3"
  }
 },
 "nbformat": 4,
 "nbformat_minor": 2
}
